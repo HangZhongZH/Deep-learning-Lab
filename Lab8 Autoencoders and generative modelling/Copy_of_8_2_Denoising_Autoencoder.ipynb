{
  "nbformat": 4,
  "nbformat_minor": 0,
  "metadata": {
    "colab": {
      "name": "Copy of 8_2_Denoising_Autoencoder.ipynb",
      "version": "0.3.2",
      "provenance": []
    },
    "language_info": {
      "codemirror_mode": {
        "name": "ipython",
        "version": 3
      },
      "file_extension": ".py",
      "mimetype": "text/x-python",
      "name": "python",
      "nbconvert_exporter": "python",
      "pygments_lexer": "ipython3",
      "version": "3.6.7"
    },
    "kernelspec": {
      "name": "python3",
      "display_name": "Python 3"
    },
    "accelerator": "GPU"
  },
  "cells": [
    {
      "cell_type": "markdown",
      "metadata": {
        "deletable": false,
        "editable": false,
        "nbgrader": {
          "checksum": "f2b4f7deb5cbe6a88fca4d3616c19c96",
          "grade": false,
          "grade_id": "cell-ff3f3e0205bff3e4",
          "locked": true,
          "schema_version": 1,
          "solution": false
        },
        "id": "kpI_KDdkJS1z",
        "colab_type": "text"
      },
      "source": [
        "# Part 2: Denoising Autoencoder"
      ]
    },
    {
      "cell_type": "code",
      "metadata": {
        "deletable": false,
        "editable": false,
        "nbgrader": {
          "checksum": "512b9d458893e474da69aa7e23a01e24",
          "grade": false,
          "grade_id": "cell-9e42398fb4955fba",
          "locked": true,
          "schema_version": 1,
          "solution": false
        },
        "id": "rL-KdWqKJS11",
        "colab_type": "code",
        "colab": {}
      },
      "source": [
        "# Execute this code block to install dependencies when running on colab\n",
        "try:\n",
        "    import torch\n",
        "except:\n",
        "    from os.path import exists\n",
        "    from wheel.pep425tags import get_abbr_impl, get_impl_ver, get_abi_tag\n",
        "    platform = '{}{}-{}'.format(get_abbr_impl(), get_impl_ver(), get_abi_tag())\n",
        "    cuda_output = !ldconfig -p|grep cudart.so|sed -e 's/.*\\.\\([0-9]*\\)\\.\\([0-9]*\\)$/cu\\1\\2/'\n",
        "    accelerator = cuda_output[0] if exists('/dev/nvidia0') else 'cpu'\n",
        "\n",
        "    !pip install -q http://download.pytorch.org/whl/{accelerator}/torch-1.0.0-{platform}-linux_x86_64.whl torchvision"
      ],
      "execution_count": 0,
      "outputs": []
    },
    {
      "cell_type": "markdown",
      "metadata": {
        "deletable": false,
        "editable": false,
        "nbgrader": {
          "checksum": "f18d024a6245ca61bd7d423b6ead9ecc",
          "grade": false,
          "grade_id": "cell-2122f281579eb211",
          "locked": true,
          "schema_version": 1,
          "solution": false
        },
        "id": "Q2gxY05OJS14",
        "colab_type": "text"
      },
      "source": [
        "### Extend the Autoencoder you implemented in Part 1 to a Denoising Autoencoder\n",
        "\n",
        "Recall from the lecture, a denoising autoencoder's architecture is very similar to a standard autoencoder. The difference is the input to the autoencoder has noise added to it. However, when computing the loss function, make sure the original (non-noisy) version is used for backpropagation.\n",
        "\n",
        "Again, let's start by loading the Fashion-MNIST dataset and transforming it to a flattened tensor."
      ]
    },
    {
      "cell_type": "code",
      "metadata": {
        "deletable": false,
        "editable": false,
        "nbgrader": {
          "checksum": "2a5ae3ba06d7ee0f67407e62f07576a0",
          "grade": false,
          "grade_id": "cell-93479840905ca9f8",
          "locked": true,
          "schema_version": 1,
          "solution": false
        },
        "id": "hMV69OJMJS14",
        "colab_type": "code",
        "colab": {}
      },
      "source": [
        "%matplotlib inline\n",
        "\n",
        "import torchvision\n",
        "import torchvision.transforms as transforms\n",
        "\n",
        "import numpy as np\n",
        "\n",
        "batch_size = 256\n",
        "image_dim = 784  # [flattened]\n",
        "\n",
        "# dataset construction\n",
        "transform = transforms.Compose([\n",
        "    transforms.ToTensor(), # convert to tensor\n",
        "    transforms.Lambda(lambda x: x.view(image_dim)) # flatten into vector\n",
        "    ])\n",
        "\n",
        "train_set = torchvision.datasets.FashionMNIST(\n",
        "    root='./data/FashionMNIST'\n",
        "    ,train=True\n",
        "    ,download=True\n",
        "    ,transform=transform\n",
        ")\n",
        "\n",
        "train_loader = torch.utils.data.DataLoader(\n",
        "    train_set, batch_size=batch_size\n",
        ")"
      ],
      "execution_count": 0,
      "outputs": []
    },
    {
      "cell_type": "markdown",
      "metadata": {
        "deletable": false,
        "editable": false,
        "nbgrader": {
          "checksum": "c6c6c49a7df533da3fb6d0ba9a32e73f",
          "grade": false,
          "grade_id": "cell-c4a66cd9fec76585",
          "locked": true,
          "schema_version": 1,
          "solution": false
        },
        "id": "qIifib4AJS16",
        "colab_type": "text"
      },
      "source": [
        "## Build a Denoising Autoencoder"
      ]
    },
    {
      "cell_type": "markdown",
      "metadata": {
        "deletable": false,
        "editable": false,
        "nbgrader": {
          "checksum": "895626fdc719173fe5603de420affa8e",
          "grade": false,
          "grade_id": "cell-5c3c6923a69817e7",
          "locked": true,
          "schema_version": 1,
          "solution": false
        },
        "id": "OLprZJDRJS17",
        "colab_type": "text"
      },
      "source": [
        "Now, define the Encoder and Decoder classes for your denoising autoencoder, called DN_Encoder, DN_Decoder, respectively. You can define these architectures how you like; some suggested architectures are given as comments in the classes below."
      ]
    },
    {
      "cell_type": "code",
      "metadata": {
        "deletable": false,
        "nbgrader": {
          "checksum": "53b00202e7794014773cd92c6e1e0f1e",
          "grade": true,
          "grade_id": "cell-cd2ff87b0e33565c",
          "locked": false,
          "points": 3,
          "schema_version": 1,
          "solution": true
        },
        "id": "3mJj0IOBJS17",
        "colab_type": "code",
        "colab": {}
      },
      "source": [
        "import torch\n",
        "import torch.nn as nn\n",
        "import torch.nn.functional as F\n",
        "import torch.optim as optim\n",
        "\n",
        "from tqdm import tqdm\n",
        "from itertools import chain\n",
        "\n",
        "\n",
        "class DN_Encoder(nn.Module):\n",
        "    '''\n",
        "    Denoising encoder with a single input, hidden and output layer\n",
        "    '''\n",
        "    def __init__(self, input_dim, hidden_dim, output_dim):\n",
        "        super(DN_Encoder, self).__init__()\n",
        "        # YOUR CODE HERE\n",
        "        #raise NotImplementedError()\n",
        "        #My code\n",
        "        self.hidden = nn.Linear(input_dim, hidden_dim)\n",
        "        self.output = nn.Linear(hidden_dim, output_dim)\n",
        "    \n",
        "    def forward(self, x):\n",
        "        # YOUR CODE HERE\n",
        "        #raise NotImplementedError()\n",
        "        #My code\n",
        "        out = self.hidden(x)\n",
        "        out = self.output(out)\n",
        "        return out\n",
        "\n",
        "        \n",
        "class DN_Decoder(nn.Module):\n",
        "    '''\n",
        "    Denoising decoder: single dense hidden layer followed by \n",
        "    output layer with a sigmoid to squish values\n",
        "    '''\n",
        "    def __init__(self, input_dim, hidden_dim, output_dim):\n",
        "        super(DN_Decoder, self).__init__()\n",
        "        # YOUR CODE HERE\n",
        "        #raise NotImplementedError()\n",
        "        #My code\n",
        "        self.hidden = nn.Linear(input_dim, hidden_dim)\n",
        "        self.output = nn.Linear(hidden_dim, output_dim)\n",
        "\n",
        "    def forward(self, x):\n",
        "        # YOUR CODE HERE\n",
        "        #raise NotImplementedError()\n",
        "        #My code\n",
        "        out = self.hidden(x)\n",
        "        out = self.output(out)\n",
        "        out = F.sigmoid(out)\n",
        "        return out"
      ],
      "execution_count": 0,
      "outputs": []
    },
    {
      "cell_type": "markdown",
      "metadata": {
        "deletable": false,
        "editable": false,
        "nbgrader": {
          "checksum": "7b37e6a8a4c85000c31c7006fb152759",
          "grade": false,
          "grade_id": "cell-de510173c317d06d",
          "locked": true,
          "schema_version": 1,
          "solution": false
        },
        "id": "jNQWU-l7JS19",
        "colab_type": "text"
      },
      "source": [
        "## Learning your Denoising Autoencoder \n",
        "\n",
        "Start from the training procedure used in Part 1 for the autoencoder and extend this to get your denoising autoencoder working. Again, include images of both the data with added noise as well as the reconstructed images in the submitted notebook. Regarding the noise to add to your images, add Gaussian noise with a mean of 0 and a standard deviation of 1."
      ]
    },
    {
      "cell_type": "code",
      "metadata": {
        "deletable": false,
        "nbgrader": {
          "checksum": "507c78c8590b753846a0bb5bf41ebb32",
          "grade": true,
          "grade_id": "cell-1083635b21dee1c5",
          "locked": false,
          "points": 7,
          "schema_version": 1,
          "solution": true
        },
        "id": "UPaeK-AsJS1-",
        "colab_type": "code",
        "outputId": "76715113-63e0-410f-a438-3d8efd083cb3",
        "colab": {
          "base_uri": "https://localhost:8080/",
          "height": 501
        }
      },
      "source": [
        "# YOUR CODE HERE\n",
        "#raise NotImplementedError()\n",
        "#My code\n",
        "import matplotlib.gridspec as gridspec    \n",
        "import os\n",
        "import torch.optim as optim\n",
        "import numpy as np\n",
        "\n",
        "from tqdm import tqdm\n",
        "from itertools import chain\n",
        "\n",
        "import matplotlib.pyplot as plt\n",
        "\n",
        "enc_dim = 64\n",
        "image_dim = 784  # [flattened]\n",
        "nEpoch = 10\n",
        "\n",
        "hidden_dim = 128\n",
        "\n",
        "# construct the encoder, decoder and optimiser\n",
        "enc = DN_Encoder(image_dim, hidden_dim, enc_dim)\n",
        "dec = DN_Decoder(enc_dim, hidden_dim, image_dim)\n",
        "optimizer = optim.Adam(chain(enc.parameters(), dec.parameters()), lr=1e-3)\n",
        "\n",
        "# training loop\n",
        "for epoch in range(nEpoch):\n",
        "    losses = []\n",
        "    trainloader = tqdm(train_loader)\n",
        "\n",
        "    for i, data in enumerate(trainloader, 0):\n",
        "        inputs, _ = data\n",
        "        optimizer.zero_grad()\n",
        "\n",
        "        z = enc(inputs + torch.randn(inputs.shape))\n",
        "        outputs = dec(z)\n",
        "\n",
        "        loss = F.binary_cross_entropy(outputs, inputs, size_average=False) / inputs.shape[0]\n",
        "        loss.backward()\n",
        "        optimizer.step()\n",
        "\n",
        "        # keep track of the loss and update the stats\n",
        "        losses.append(loss.item())\n",
        "        trainloader.set_postfix(loss=np.mean(losses), epoch=epoch)\n",
        "    \n",
        "    \n",
        "    ## Display some of the reconstructed images\n",
        "    # YOUR CODE HERE\n",
        "    #raise NotImplementedError()\n",
        "    #My code\n",
        "for i, data in enumerate(train_loader):\n",
        "  inputs,_ = data\n",
        "  z = enc(inputs)\n",
        "  outputs = dec(z)\n",
        "  break\n",
        "\n",
        "for i in range(8):\n",
        "  plt.subplot(int(str(24) + str(i + 1)))\n",
        "  plt.imshow(outputs[i].data.reshape(28, 28), cmap=plt.get_cmap('gray'))\n",
        "plt.show()"
      ],
      "execution_count": 0,
      "outputs": [
        {
          "output_type": "stream",
          "text": [
            "\r  0%|          | 0/235 [00:00<?, ?it/s]/usr/local/lib/python3.6/dist-packages/torch/nn/functional.py:1386: UserWarning: nn.functional.sigmoid is deprecated. Use torch.sigmoid instead.\n",
            "  warnings.warn(\"nn.functional.sigmoid is deprecated. Use torch.sigmoid instead.\")\n",
            "/usr/local/lib/python3.6/dist-packages/torch/nn/_reduction.py:46: UserWarning: size_average and reduce args will be deprecated, please use reduction='sum' instead.\n",
            "  warnings.warn(warning.format(ret))\n",
            "100%|██████████| 235/235 [00:30<00:00,  8.53it/s, epoch=0, loss=316]\n",
            "100%|██████████| 235/235 [00:28<00:00,  9.08it/s, epoch=1, loss=268]\n",
            "100%|██████████| 235/235 [00:30<00:00,  9.12it/s, epoch=2, loss=265]\n",
            "100%|██████████| 235/235 [00:31<00:00,  7.51it/s, epoch=3, loss=264]\n",
            "100%|██████████| 235/235 [00:26<00:00,  8.78it/s, epoch=4, loss=263]\n",
            "100%|██████████| 235/235 [00:26<00:00, 11.54it/s, epoch=5, loss=262]\n",
            "100%|██████████| 235/235 [00:28<00:00,  8.35it/s, epoch=6, loss=262]\n",
            "100%|██████████| 235/235 [00:27<00:00,  8.44it/s, epoch=7, loss=262]\n",
            "100%|██████████| 235/235 [00:25<00:00, 13.55it/s, epoch=8, loss=261]\n",
            "100%|██████████| 235/235 [00:19<00:00, 12.17it/s, epoch=9, loss=261]\n"
          ],
          "name": "stderr"
        },
        {
          "output_type": "display_data",
          "data": {
            "image/png": "[encoded data removed]",
            "text/plain": [
              "<Figure size 432x288 with 8 Axes>"
            ]
          },
          "metadata": {
            "tags": []
          }
        }
      ]
    }
  ]
}