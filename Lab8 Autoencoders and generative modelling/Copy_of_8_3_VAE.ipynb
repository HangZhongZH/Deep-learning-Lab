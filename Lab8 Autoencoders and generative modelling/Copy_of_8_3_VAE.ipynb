{
  "nbformat": 4,
  "nbformat_minor": 0,
  "metadata": {
    "colab": {
      "name": "Copy of 8_3_VAE.ipynb",
      "version": "0.3.2",
      "provenance": []
    },
    "language_info": {
      "codemirror_mode": {
        "name": "ipython",
        "version": 3
      },
      "file_extension": ".py",
      "mimetype": "text/x-python",
      "name": "python",
      "nbconvert_exporter": "python",
      "pygments_lexer": "ipython3",
      "version": "3.6.7"
    },
    "kernelspec": {
      "name": "python3",
      "display_name": "Python 3"
    },
    "accelerator": "GPU"
  },
  "cells": [
    {
      "cell_type": "code",
      "metadata": {
        "deletable": false,
        "editable": false,
        "nbgrader": {
          "checksum": "512b9d458893e474da69aa7e23a01e24",
          "grade": false,
          "grade_id": "cell-9e42398fb4955fba",
          "locked": true,
          "schema_version": 1,
          "solution": false
        },
        "id": "7KppZhwnJU0y",
        "colab_type": "code",
        "colab": {}
      },
      "source": [
        "# Execute this code block to install dependencies when running on colab\n",
        "try:\n",
        "    import torch\n",
        "except:\n",
        "    from os.path import exists\n",
        "    from wheel.pep425tags import get_abbr_impl, get_impl_ver, get_abi_tag\n",
        "    platform = '{}{}-{}'.format(get_abbr_impl(), get_impl_ver(), get_abi_tag())\n",
        "    cuda_output = !ldconfig -p|grep cudart.so|sed -e 's/.*\\.\\([0-9]*\\)\\.\\([0-9]*\\)$/cu\\1\\2/'\n",
        "    accelerator = cuda_output[0] if exists('/dev/nvidia0') else 'cpu'\n",
        "\n",
        "    !pip install -q http://download.pytorch.org/whl/{accelerator}/torch-1.0.0-{platform}-linux_x86_64.whl torchvision"
      ],
      "execution_count": 0,
      "outputs": []
    },
    {
      "cell_type": "markdown",
      "metadata": {
        "deletable": false,
        "editable": false,
        "nbgrader": {
          "checksum": "a83d3d20445bce6b3565c220a1d1b5b5",
          "grade": false,
          "grade_id": "cell-9daf9d2f6ba17cf3",
          "locked": true,
          "schema_version": 1,
          "solution": false
        },
        "id": "zOhUWF1sJU01",
        "colab_type": "text"
      },
      "source": [
        "# Part 3: Variational Autoencoders (VAE)\n",
        "\n",
        "For this part of the lab, you will implement a VAE. There is some code below which will help you run the learning procedure, however, you will need to complete the definition of the loss function. Start by implementing the encoder and decoder for the VAE. There is a diagram below illustrating what these architectures should look like.\n",
        "\n",
        "Let's start by loading the Fashion-MNIST dataset again and transforming the data to a flattened tensor."
      ]
    },
    {
      "cell_type": "markdown",
      "metadata": {
        "deletable": false,
        "editable": false,
        "nbgrader": {
          "checksum": "0f9c6bc81b6a042933f8c866f2536bf4",
          "grade": false,
          "grade_id": "cell-2122f281579eb211",
          "locked": true,
          "schema_version": 1,
          "solution": false
        },
        "id": "gOaHvYj7JU02",
        "colab_type": "text"
      },
      "source": [
        "### Loading the Dataset"
      ]
    },
    {
      "cell_type": "code",
      "metadata": {
        "deletable": false,
        "editable": false,
        "nbgrader": {
          "checksum": "0773f20f2005e856ca3a56cfcd912f7f",
          "grade": false,
          "grade_id": "cell-fb05179f34afa2fb",
          "locked": true,
          "schema_version": 1,
          "solution": false
        },
        "id": "BSBW4fNrJU02",
        "colab_type": "code",
        "colab": {}
      },
      "source": [
        "%matplotlib inline\n",
        "\n",
        "import torchvision\n",
        "import torchvision.transforms as transforms\n",
        "\n",
        "batch_size = 256\n",
        "image_dim = 784 #flattened\n",
        "\n",
        "# dataset construction\n",
        "transform = transforms.Compose([\n",
        "    transforms.ToTensor(), # convert to tensor\n",
        "    transforms.Lambda(lambda x: x.view(image_dim)) # flatten into vector\n",
        "    ])\n",
        "\n",
        "train_set = torchvision.datasets.FashionMNIST(\n",
        "    root='./data/FashionMNIST'\n",
        "    ,train=True\n",
        "    ,download=True\n",
        "    ,transform=transform\n",
        ")\n",
        "\n",
        "train_loader = torch.utils.data.DataLoader(\n",
        "    train_set, batch_size=batch_size\n",
        ")"
      ],
      "execution_count": 0,
      "outputs": []
    },
    {
      "cell_type": "markdown",
      "metadata": {
        "deletable": false,
        "editable": false,
        "nbgrader": {
          "checksum": "55716d8caf68b36778b5ab313e00b514",
          "grade": false,
          "grade_id": "cell-c4a66cd9fec76585",
          "locked": true,
          "schema_version": 1,
          "solution": false
        },
        "id": "2sNWD4n_JU04",
        "colab_type": "text"
      },
      "source": [
        "## Build a Simple Variational Autoencoder\n",
        "\n",
        "<img src=\"http://comp6248.ecs.soton.ac.uk/labs/lab8/VAE_resized.png\">"
      ]
    },
    {
      "cell_type": "code",
      "metadata": {
        "deletable": false,
        "nbgrader": {
          "checksum": "36de01cb9c9a800ede758c8c39856959",
          "grade": true,
          "grade_id": "cell-cce2169671951c0d",
          "locked": false,
          "points": 6,
          "schema_version": 1,
          "solution": true
        },
        "id": "Cc6hLOOVJU05",
        "colab_type": "code",
        "colab": {}
      },
      "source": [
        "import torch\n",
        "import torch.nn as nn\n",
        "import torch.nn.functional as F\n",
        "import torch.optim as optim\n",
        "\n",
        "from tqdm import tqdm\n",
        "from itertools import chain\n",
        "\n",
        "import numpy as np\n",
        "\n",
        "class Encoder(nn.Module):\n",
        "    '''\n",
        "    simple encoder with a single hidden dense layer\n",
        "    and linear projections to the diag-Gauss parameters\n",
        "    '''\n",
        "    # YOUR CODE HERE\n",
        "    #raise NotImplementedError()\n",
        "    #My code\n",
        "    def __init__(self, input_dim, hidden_dim, embedding_dim):\n",
        "        super(Encoder, self).__init__()\n",
        "        self.fc1 = nn.Linear(input_dim, hidden_dim)\n",
        "        self.mu = nn.Linear(hidden_dim, embedding_dim)\n",
        "        self.sigma = nn.Linear(hidden_dim, embedding_dim)\n",
        "    \n",
        "    def forward(self, x):\n",
        "        out = self.fc1(x)\n",
        "        mu = self.mu(out)\n",
        "        sigma = self.sigma(out)\n",
        "        return mu, sigma\n",
        "\n",
        "\n",
        "class Decoder(nn.Module):\n",
        "    '''\n",
        "    simple decoder: single dense hidden layer followed by \n",
        "    output layer with a sigmoid to squish values\n",
        "    '''\n",
        "    # YOUR CODE HERE\n",
        "    #raise NotImplementedError()\n",
        "    #My code\n",
        "    def __init__(self, embedding_dim, hidden_dim, output_dim):\n",
        "        super(Decoder, self).__init__()\n",
        "        self.fc1 = nn.Linear(embedding_dim, hidden_dim)\n",
        "        self.fc2 = nn.Linear(hidden_dim, output_dim)\n",
        "\n",
        "    def forward(self, x):\n",
        "        out = self.fc1(x)\n",
        "        out = self.fc2(out)\n",
        "        out = F.sigmoid(out)\n",
        "        return out"
      ],
      "execution_count": 0,
      "outputs": []
    },
    {
      "cell_type": "markdown",
      "metadata": {
        "deletable": false,
        "editable": false,
        "nbgrader": {
          "checksum": "215aceedbc5f7dbc7aeb23f959a99b88",
          "grade": false,
          "grade_id": "cell-b4513299e5279b61",
          "locked": true,
          "schema_version": 1,
          "solution": false
        },
        "id": "hTKBe4hFJU07",
        "colab_type": "text"
      },
      "source": [
        "## You may complete the code below to test your implementation, or alternately, rewrite your own.\n",
        "\n",
        "#### Please ensure there are some reconstructed images drawn at the bottom of your submitted Juypter notebook to help with the marking process. "
      ]
    },
    {
      "cell_type": "code",
      "metadata": {
        "deletable": false,
        "nbgrader": {
          "checksum": "62b7f846bcfd0fbb26177b35925d7af0",
          "grade": true,
          "grade_id": "cell-85a3a1c4ee56b86b",
          "locked": false,
          "points": 0,
          "schema_version": 1,
          "solution": true
        },
        "id": "JDlPQcp5JU08",
        "colab_type": "code",
        "outputId": "f7c5e1a3-82f7-465c-8d48-a394f94920f6",
        "colab": {
          "base_uri": "https://localhost:8080/",
          "height": 501
        }
      },
      "source": [
        "import matplotlib.gridspec as gridspec    \n",
        "import os\n",
        "import matplotlib.pyplot as plt\n",
        "\n",
        "# Sampling function (using the reparameterisation trick)\n",
        "def sample(mu, log_sigma2):\n",
        "    eps = torch.randn(mu.shape[0], mu.shape[1])\n",
        "    return mu + torch.exp(log_sigma2 / 2) * eps\n",
        "\n",
        "\n",
        "#parameters\n",
        "batch_size = 256\n",
        "embedding_dim = 2\n",
        "enc_hidden_units = 512\n",
        "dec_hidden_units = 512\n",
        "nEpoch = 10\n",
        "\n",
        "# construct the encoder, decoder and optimiser\n",
        "enc = Encoder(image_dim, enc_hidden_units, embedding_dim)\n",
        "dec = Decoder(embedding_dim, dec_hidden_units, image_dim)\n",
        "optimizer = optim.Adam(chain(enc.parameters(), dec.parameters()), lr=1e-3)\n",
        "\n",
        "# training loop\n",
        "for epoch in range(nEpoch):\n",
        "    losses = []\n",
        "    trainloader = tqdm(train_loader)\n",
        "\n",
        "    for i, data in enumerate(trainloader, 0):\n",
        "        inputs, _ = data\n",
        "\n",
        "        optimizer.zero_grad()\n",
        "\n",
        "        mu, log_sigma2 = enc(inputs)\n",
        "        z = sample(mu, log_sigma2)\n",
        "        outputs = dec(z)\n",
        "\n",
        "        # E[log P(X|z)] - as images are binary it makes most sense to use binary cross entropy\n",
        "        # we need to be a little careful - by default torch averages over every observation \n",
        "        # (e.g. each  pixel in each image of each batch), whereas we want the average over entire\n",
        "        # images instead\n",
        "        recon = F.binary_cross_entropy(outputs, inputs, size_average=False) / inputs.shape[0]\n",
        "        \n",
        "        kl = 0 \n",
        "        # kl = D_KL(Q(z|X) || P(z|X)) - calculate in closed form\n",
        "        # Compute the term kl which is then added to the total loss\n",
        "        # YOUR CODE HERE\n",
        "        #raise NotImplementedError()\n",
        "        #My code\n",
        "        kl = - 0.5 * torch.sum(1 + log_sigma2 - mu.pow(2) - log_sigma2.exp())\n",
        "        kl /= batch_size * image_dim\n",
        "        \n",
        "        \n",
        "        \n",
        "        \n",
        "        \n",
        "        \n",
        "        \n",
        "        loss = recon + kl\n",
        "        loss.backward()\n",
        "        optimizer.step()\n",
        "\n",
        "        # keep track of the loss and update the stats\n",
        "        losses.append(loss.item())\n",
        "        trainloader.set_postfix(loss=np.mean(losses), epoch=epoch)\n",
        "\n",
        "    \n",
        "    ## Please display some of the generated images in the submitted Notebook\n",
        "    # YOUR CODE HERE\n",
        "    #raise NotImplementedError()\n",
        "    #My code\n",
        "for i, data in enumerate(train_loader):\n",
        "  inputs,_ = data\n",
        "  mu, log_sigma2 = enc(inputs)\n",
        "  z = sample(mu, log_sigma2)\n",
        "  outputs = dec(z)\n",
        "  break\n",
        "\n",
        "for i in range(8):\n",
        "  plt.subplot(int(str(24) + str(i + 1)))\n",
        "  plt.imshow(outputs[i].data.reshape(28, 28), cmap=plt.get_cmap('gray'))\n",
        "plt.show()"
      ],
      "execution_count": 0,
      "outputs": [
        {
          "output_type": "stream",
          "text": [
            "\r  0%|          | 0/235 [00:00<?, ?it/s]/usr/local/lib/python3.6/dist-packages/torch/nn/functional.py:1386: UserWarning: nn.functional.sigmoid is deprecated. Use torch.sigmoid instead.\n",
            "  warnings.warn(\"nn.functional.sigmoid is deprecated. Use torch.sigmoid instead.\")\n",
            "/usr/local/lib/python3.6/dist-packages/torch/nn/_reduction.py:46: UserWarning: size_average and reduce args will be deprecated, please use reduction='sum' instead.\n",
            "  warnings.warn(warning.format(ret))\n",
            "100%|██████████| 235/235 [00:15<00:00, 14.75it/s, epoch=0, loss=308]\n",
            "100%|██████████| 235/235 [00:28<00:00,  6.53it/s, epoch=1, loss=295]\n",
            "100%|██████████| 235/235 [00:39<00:00,  6.00it/s, epoch=2, loss=295]\n",
            "100%|██████████| 235/235 [00:39<00:00,  6.01it/s, epoch=3, loss=295]\n",
            "100%|██████████| 235/235 [00:38<00:00,  6.05it/s, epoch=4, loss=295]\n",
            "100%|██████████| 235/235 [00:38<00:00,  6.11it/s, epoch=5, loss=295]\n",
            "100%|██████████| 235/235 [00:41<00:00,  5.69it/s, epoch=6, loss=295]\n",
            "100%|██████████| 235/235 [00:37<00:00,  6.20it/s, epoch=7, loss=295]\n",
            "100%|██████████| 235/235 [00:26<00:00,  9.04it/s, epoch=8, loss=294]\n",
            "100%|██████████| 235/235 [00:14<00:00, 16.45it/s, epoch=9, loss=294]\n"
          ],
          "name": "stderr"
        },
        {
          "output_type": "display_data",
          "data": {
            "image/png": "[encoded data removed]",
            "text/plain": [
              "<Figure size 432x288 with 8 Axes>"
            ]
          },
          "metadata": {
            "tags": []
          }
        }
      ]
    },
    {
      "cell_type": "code",
      "metadata": {
        "id": "MBN7JruvJU0-",
        "colab_type": "code",
        "colab": {}
      },
      "source": [
        ""
      ],
      "execution_count": 0,
      "outputs": []
    }
  ]
}