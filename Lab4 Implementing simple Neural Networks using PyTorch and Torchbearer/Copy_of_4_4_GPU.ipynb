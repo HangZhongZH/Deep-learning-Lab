{
  "nbformat": 4,
  "nbformat_minor": 0,
  "metadata": {
    "colab": {
      "name": "Copy of 4_4_GPU.ipynb",
      "version": "0.3.2",
      "provenance": []
    },
    "kernelspec": {
      "name": "python3",
      "display_name": "Python 3"
    },
    "accelerator": "GPU"
  },
  "cells": [
    {
      "cell_type": "markdown",
      "metadata": {
        "deletable": false,
        "editable": false,
        "nbgrader": {
          "checksum": "4972f311d33e889babafe6f6e44edc5f",
          "grade": false,
          "grade_id": "cell-8115527bd0e08e63",
          "locked": true,
          "schema_version": 1,
          "solution": false
        },
        "id": "cc3JIiywee3G",
        "colab_type": "text"
      },
      "source": [
        "# Part 4: Using GPU acceleration with PyTorch"
      ]
    },
    {
      "cell_type": "code",
      "metadata": {
        "deletable": false,
        "editable": false,
        "nbgrader": {
          "checksum": "8ef6029eb23fe884594de09e1cd97769",
          "grade": false,
          "grade_id": "cell-2e8abb75fa5d4222",
          "locked": true,
          "schema_version": 1,
          "solution": false
        },
        "id": "o64ghGUEee3J",
        "colab_type": "code",
        "outputId": "b7dfb66b-be04-4fbc-ad51-e8314915e58e",
        "colab": {
          "base_uri": "https://localhost:8080/",
          "height": 289
        }
      },
      "source": [
        "# Execute this code block to install dependencies when running on colab\n",
        "try:\n",
        "    import torch\n",
        "except:\n",
        "    from os.path import exists\n",
        "    from wheel.pep425tags import get_abbr_impl, get_impl_ver, get_abi_tag\n",
        "    platform = '{}{}-{}'.format(get_abbr_impl(), get_impl_ver(), get_abi_tag())\n",
        "    cuda_output = !ldconfig -p|grep cudart.so|sed -e 's/.*\\.\\([0-9]*\\)\\.\\([0-9]*\\)$/cu\\1\\2/'\n",
        "    accelerator = cuda_output[0] if exists('/dev/nvidia0') else 'cpu'\n",
        "\n",
        "    !pip install -q http://download.pytorch.org/whl/{accelerator}/torch-1.0.0-{platform}-linux_x86_64.whl torchvision\n",
        "\n",
        "try: \n",
        "    import torchbearer\n",
        "except:\n",
        "    !pip install torchbearer"
      ],
      "execution_count": 0,
      "outputs": [
        {
          "output_type": "stream",
          "text": [
            "Collecting torchbearer\n",
            "\u001b[?25l  Downloading https://files.pythonhosted.org/packages/5a/62/79c45d98e22e87b44c9b354d1b050526de80ac8a4da777126b7c86c2bb3e/torchbearer-0.3.0.tar.gz (84kB)\n",
            "\u001b[K    100% |████████████████████████████████| 92kB 3.5MB/s \n",
            "\u001b[?25hRequirement already satisfied: torch>=0.4 in /usr/local/lib/python3.6/dist-packages (from torchbearer) (1.0.1.post2)\n",
            "Requirement already satisfied: torchvision in /usr/local/lib/python3.6/dist-packages (from torchbearer) (0.2.2.post3)\n",
            "Requirement already satisfied: tqdm in /usr/local/lib/python3.6/dist-packages (from torchbearer) (4.28.1)\n",
            "Requirement already satisfied: six in /usr/local/lib/python3.6/dist-packages (from torchvision->torchbearer) (1.11.0)\n",
            "Requirement already satisfied: pillow>=4.1.1 in /usr/local/lib/python3.6/dist-packages (from torchvision->torchbearer) (4.1.1)\n",
            "Requirement already satisfied: numpy in /usr/local/lib/python3.6/dist-packages (from torchvision->torchbearer) (1.14.6)\n",
            "Requirement already satisfied: olefile in /usr/local/lib/python3.6/dist-packages (from pillow>=4.1.1->torchvision->torchbearer) (0.46)\n",
            "Building wheels for collected packages: torchbearer\n",
            "  Building wheel for torchbearer (setup.py) ... \u001b[?25ldone\n",
            "\u001b[?25h  Stored in directory: /root/.cache/pip/wheels/6c/cb/69/466aef9cee879fb8f645bd602e34d45e754fb3dee2cb1a877a\n",
            "Successfully built torchbearer\n",
            "Installing collected packages: torchbearer\n",
            "Successfully installed torchbearer-0.3.0\n"
          ],
          "name": "stdout"
        }
      ]
    },
    {
      "cell_type": "markdown",
      "metadata": {
        "deletable": false,
        "editable": false,
        "nbgrader": {
          "checksum": "5ad3d98e7a666f0550c48db3d40c9fb6",
          "grade": false,
          "grade_id": "cell-56a116e085aef83c",
          "locked": true,
          "schema_version": 1,
          "solution": false
        },
        "id": "bMnk-z7Aee3M",
        "colab_type": "text"
      },
      "source": [
        "## Manual use of `.cuda()`\n",
        "\n",
        "Now the magic of PyTorch comes in. So far, we've only been using the CPU to do computation. When we want to scale to a bigger problem, that won't be feasible for very long.\n",
        "|\n",
        "PyTorch makes it really easy to use the GPU for accelerating computation. Consider the following code that computes the element-wise product of two large matrices:"
      ]
    },
    {
      "cell_type": "code",
      "metadata": {
        "id": "Xd8rqvB1ee3N",
        "colab_type": "code",
        "outputId": "ac20e01f-7826-4b65-9410-4018fc206170",
        "colab": {
          "base_uri": "https://localhost:8080/",
          "height": 136
        }
      },
      "source": [
        "import torch\n",
        "\n",
        "t1 = torch.randn(1000, 1000)\n",
        "t2 = torch.randn(1000, 1000)\n",
        "t3 = t1*t2\n",
        "print(t3)"
      ],
      "execution_count": 0,
      "outputs": [
        {
          "output_type": "stream",
          "text": [
            "tensor([[ 0.8004, -0.1185,  0.0766,  ..., -0.2498, -0.9295, -0.8177],\n",
            "        [ 0.8889,  0.0142,  0.3281,  ...,  0.7931,  2.1969, -0.3727],\n",
            "        [ 1.1194, -2.1351,  0.5316,  ..., -2.3084, -0.4073,  0.1930],\n",
            "        ...,\n",
            "        [ 0.2112,  0.7200, -0.4899,  ..., -0.4995,  0.1286, -0.9344],\n",
            "        [-0.2539, -0.7855,  0.0216,  ..., -0.2597, -1.5844, -0.4841],\n",
            "        [-1.3071,  0.7740, -0.1943,  ...,  1.1912,  0.2710,  0.2342]])\n"
          ],
          "name": "stdout"
        }
      ]
    },
    {
      "cell_type": "markdown",
      "metadata": {
        "deletable": false,
        "editable": false,
        "nbgrader": {
          "checksum": "6af792ab02ecca981f5c12685789f471",
          "grade": false,
          "grade_id": "cell-6849616c01cf9f25",
          "locked": true,
          "schema_version": 1,
          "solution": false
        },
        "id": "5PjZ7V3yee3P",
        "colab_type": "text"
      },
      "source": [
        "By sending all the tensors that we are using to the GPU, all the operations on them will also run on the GPU without having to change anything else. If you're running a non-cuda enabled version of PyTorch the following will throw an error; if you have cuda available the following will create the input matrices, copy them to the GPU and perform the multiplication on the GPU itself:"
      ]
    },
    {
      "cell_type": "code",
      "metadata": {
        "id": "tZk-8wIfee3Q",
        "colab_type": "code",
        "outputId": "a23202a7-eccc-4ba0-92b6-a70be9029e72",
        "colab": {
          "base_uri": "https://localhost:8080/",
          "height": 238
        }
      },
      "source": [
        "t1 = torch.randn(1000, 1000).cuda()\n",
        "t2 = torch.randn(1000, 1000).cuda()\n",
        "t3 = t1*t2\n",
        "print(t3)"
      ],
      "execution_count": 0,
      "outputs": [
        {
          "output_type": "stream",
          "text": [
            "tensor([[-1.8405e+00, -3.5815e-03, -1.1253e+00,  ..., -1.2303e+00,\n",
            "          4.2462e-02, -2.5102e-01],\n",
            "        [ 8.4235e-01,  7.2835e-02,  3.3401e-02,  ...,  1.7723e+00,\n",
            "          4.4109e-01, -2.4714e-01],\n",
            "        [ 5.5433e-01,  1.0361e+00, -1.3867e+00,  ...,  2.5300e+00,\n",
            "          1.9590e-01, -1.2068e+00],\n",
            "        ...,\n",
            "        [ 1.8813e-01,  6.6440e-02, -3.9482e-01,  ..., -1.2430e+00,\n",
            "         -5.5013e-01,  9.9872e-04],\n",
            "        [-7.5560e-01,  1.4115e+00, -3.7997e-01,  ...,  6.1002e-01,\n",
            "          6.8250e-01,  1.0520e+00],\n",
            "        [ 1.2518e-02, -3.1877e-01, -9.7710e-02,  ...,  5.8166e-01,\n",
            "          3.5808e-01,  1.9888e-01]], device='cuda:0')\n"
          ],
          "name": "stdout"
        }
      ]
    },
    {
      "cell_type": "markdown",
      "metadata": {
        "deletable": false,
        "editable": false,
        "nbgrader": {
          "checksum": "c771877e9beb32f8a49585373534dad1",
          "grade": false,
          "grade_id": "cell-2bca345a3c01999c",
          "locked": true,
          "schema_version": 1,
          "solution": false
        },
        "id": "bFWRuXD4ee3S",
        "colab_type": "text"
      },
      "source": [
        "If you're running this workbook in colab, now enable GPU acceleration (`Runtime->Runtime Type` and add a `GPU` in the hardware accelerator pull-down). You'll then need to re-run all cells to this point.\n",
        "\n",
        "If you were able to run the above with hardware acceleration, the print-out of the result tensor would show that it was an instance of `cuda.FloatTensor` type on the the `(GPU 0)` GPU device. If your wanted to copy the tensor back to the CPU, you would use the `.cpu()` method."
      ]
    },
    {
      "cell_type": "markdown",
      "metadata": {
        "deletable": false,
        "editable": false,
        "nbgrader": {
          "checksum": "c064698f174abe4509b23c34a7912f44",
          "grade": false,
          "grade_id": "cell-e308141abb8d0e0c",
          "locked": true,
          "schema_version": 1,
          "solution": false
        },
        "id": "EFCFkaCQee3T",
        "colab_type": "text"
      },
      "source": [
        "## Writing platform agnostic code\n",
        "\n",
        "Most of the time you'd like to write code that is device agnostic; that is it will run on a GPU if one is available, and otherwise it would fall back to the CPU. The recommended way to do this is as follows:"
      ]
    },
    {
      "cell_type": "code",
      "metadata": {
        "id": "xSwXAzPMee3U",
        "colab_type": "code",
        "outputId": "f4f7142d-c57e-4402-b68c-cfb9a73b37d0",
        "colab": {
          "base_uri": "https://localhost:8080/",
          "height": 153
        }
      },
      "source": [
        "device = \"cuda:0\" if torch.cuda.is_available() else \"cpu\"\n",
        "t1 = torch.randn(1000, 1000).to(device)\n",
        "t2 = torch.randn(1000, 1000).to(device)\n",
        "t3 = t1*t2\n",
        "print(t3)"
      ],
      "execution_count": 0,
      "outputs": [
        {
          "output_type": "stream",
          "text": [
            "tensor([[-0.8771,  0.3147, -0.2082,  ..., -0.0903, -0.2134, -0.0570],\n",
            "        [ 0.2190, -0.2789,  0.5547,  ..., -1.1738,  0.3791,  0.1029],\n",
            "        [-0.3435, -0.4106,  0.4151,  ..., -1.9121, -0.5293, -0.6691],\n",
            "        ...,\n",
            "        [-0.8667,  0.0894,  1.6767,  ..., -0.0143,  0.2878,  0.0705],\n",
            "        [ 2.8974, -0.0853, -0.3223,  ..., -0.1672,  0.3421,  0.0757],\n",
            "        [ 0.9058,  0.7595,  0.0652,  ...,  1.5239, -0.1545,  0.4137]],\n",
            "       device='cuda:0')\n"
          ],
          "name": "stdout"
        }
      ]
    },
    {
      "cell_type": "markdown",
      "metadata": {
        "deletable": false,
        "editable": false,
        "nbgrader": {
          "checksum": "b31bddc27c2bdeb593ee2498dfbd7e10",
          "grade": false,
          "grade_id": "cell-24f03f8a35648313",
          "locked": true,
          "schema_version": 1,
          "solution": false
        },
        "id": "dmtcW77Fee3W",
        "colab_type": "text"
      },
      "source": [
        "## Accelerating neural net training\n",
        "\n",
        "If you wanted to accelerate the training of a neural net using raw PyTorch, you would have to copy both the model and the training data to the GPU. Unless you were using a really small dataset like MNIST, you would typically _stream_ the batches of training data to the GPU as you used them in the training loop:\n",
        "\n",
        "```python\n",
        "device = \"cuda:0\" if torch.cuda.is_available() else \"cpu\"\n",
        "model = BaselineModel(784, 784, 10).to(device)\n",
        "\n",
        "loss_function = ...\n",
        "optimiser = ...\n",
        "\n",
        "for epoch in range(10):\n",
        "    for data in trainloader:\n",
        "        inputs, labels = data\n",
        "        inputs, labels = inputs.to(device), labels.to(device)\n",
        "\n",
        "        optimiser.zero_grad()\n",
        "        outputs = model(inputs)\n",
        "        loss = loss_function(outputs, labels)\n",
        "        loss.backward()\n",
        "        optimiser.step()\n",
        "```\n",
        "\n",
        "Using Torchbearer, this becomes much simpler - you just tell the `Trial` to run on the GPU and that's it!:\n",
        "\n",
        "```python\n",
        "model = BetterCNN()\n",
        "\n",
        "loss_function = ...\n",
        "optimiser = ...\n",
        "\n",
        "device = \"cuda:0\" if torch.cuda.is_available() else \"cpu\"\n",
        "trial = Trial(model, optimiser, loss_function, metrics=['loss', 'accuracy']).to(device)\n",
        "trial.with_generators(trainloader)\n",
        "trial.run(epochs=10)\n",
        "```\n"
      ]
    },
    {
      "cell_type": "markdown",
      "metadata": {
        "deletable": false,
        "editable": false,
        "nbgrader": {
          "checksum": "064768c85834aa40d82396f9f3cccfac",
          "grade": false,
          "grade_id": "cell-cf0444554770e817",
          "locked": true,
          "schema_version": 1,
          "solution": false
        },
        "id": "Xerhehc9ee3W",
        "colab_type": "text"
      },
      "source": [
        "## Multiple GPUs\n",
        "\n",
        "Using multiple GPUs is beyond the scope of the lab, but if you have multiple cuda devices, they can be referred to by index: `cuda:0`, `cuda:1`, `cuda:2`, etc. You have to be careful not to mix operations on different devices, and would need how to carefully orchestrate moving of data between the devices (which can really slow down your code to the point at which using the CPU would actually be faster)."
      ]
    },
    {
      "cell_type": "markdown",
      "metadata": {
        "deletable": false,
        "editable": false,
        "nbgrader": {
          "checksum": "d698b1536be57d852780abaf08fcad68",
          "grade": false,
          "grade_id": "cell-f0f058c0af885275",
          "locked": true,
          "schema_version": 1,
          "solution": false
        },
        "id": "BM-DM6pwee3X",
        "colab_type": "text"
      },
      "source": [
        "## Questions\n",
        "\n",
        "__Answer the following questions (enter the answer in the box below each one):__\n",
        "\n",
        "__1.__ What features of GPUs allow them to perform computations faster than a typically CPU?"
      ]
    },
    {
      "cell_type": "markdown",
      "metadata": {
        "deletable": false,
        "nbgrader": {
          "checksum": "b1dc585b11c0e499f09e409017b6cb06",
          "grade": true,
          "grade_id": "cell-76fcc457388a8223",
          "locked": false,
          "points": 1,
          "schema_version": 1,
          "solution": true
        },
        "id": "dNz1bEFDee3Y",
        "colab_type": "text"
      },
      "source": [
        "**My answer:**\n",
        "A GPU has thousands of cores, while a CPU usually has no more than 12 cores, so GPU has powerful parallel processing power.\n",
        "\n",
        "CNN and deep learning involve huge amount of matrix multiplications and other operations which can be massively parallelized, so GPU perform computations faster."
      ]
    },
    {
      "cell_type": "markdown",
      "metadata": {
        "deletable": false,
        "editable": false,
        "nbgrader": {
          "checksum": "374801c6d757e48f93fe93618435c685",
          "grade": false,
          "grade_id": "cell-68f765cc2155e517",
          "locked": true,
          "schema_version": 1,
          "solution": false
        },
        "id": "Vc6xIEdKee3Z",
        "colab_type": "text"
      },
      "source": [
        "__2.__ What is the biggest limiting factor for training large models with current generation GPUs?"
      ]
    },
    {
      "cell_type": "markdown",
      "metadata": {
        "deletable": false,
        "nbgrader": {
          "checksum": "964d60951aa496908969f2ca35be3104",
          "grade": true,
          "grade_id": "cell-a147457afc2c4c40",
          "locked": false,
          "points": 1,
          "schema_version": 1,
          "solution": true
        },
        "id": "geYT3gKHee3a",
        "colab_type": "text"
      },
      "source": [
        "**My answer:**\n",
        "It should be the DRAM limits of GPUs. \n",
        "As the development of deep learning, deeper and deeper networks are generated, which means much more memory are needed."
      ]
    }
  ]
}