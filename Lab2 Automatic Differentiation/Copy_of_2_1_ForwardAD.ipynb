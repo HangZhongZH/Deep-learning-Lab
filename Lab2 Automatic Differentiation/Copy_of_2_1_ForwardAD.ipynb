{
  "nbformat": 4,
  "nbformat_minor": 0,
  "metadata": {
    "colab": {
      "name": "Copy of 2_1_ForwardAD.ipynb",
      "version": "0.3.2",
      "provenance": []
    },
    "kernelspec": {
      "display_name": "Python 3",
      "language": "python",
      "name": "python3"
    }
  },
  "cells": [
    {
      "cell_type": "markdown",
      "metadata": {
        "deletable": false,
        "editable": false,
        "nbgrader": {
          "checksum": "f415941a3a1516f0b3e2b93249aff57d",
          "grade": false,
          "grade_id": "cell-1015fd7f8a1783c7",
          "locked": true,
          "schema_version": 1,
          "solution": false
        },
        "id": "iQCBvOwTYbRJ",
        "colab_type": "text"
      },
      "source": [
        "# Part 1: Forward Mode Automatic Differentiation\n",
        "\n",
        "Forward mode AD can simply be implemented by defining a class to represent [dual numbers](https://en.wikipedia.org/wiki/Dual_number) which hold the value and its derivative. The following skeleton defines a dual number and implements multiplication. \n",
        "\n",
        "__Tasks:__\n",
        "\n",
        "- Addition (`__add__`) is incomplete - can you finish it? \n",
        "- Can you also implement division (`__truediv__`), subtraction (`__sub__`) and power (`__pow__`)?"
      ]
    },
    {
      "cell_type": "code",
      "metadata": {
        "deletable": false,
        "nbgrader": {
          "checksum": "33fa490908871a743dabb3060ebe112e",
          "grade": false,
          "grade_id": "cell-a645b47036f56c2e",
          "locked": false,
          "schema_version": 1,
          "solution": true
        },
        "id": "1w6hKp0uYbRM",
        "colab_type": "code",
        "colab": {}
      },
      "source": [
        "import math\n",
        "\n",
        "class DualNumber:\n",
        "    def __init__(self, value, dvalue):\n",
        "        self.value = value\n",
        "        self.dvalue = dvalue\n",
        "\n",
        "    def __str__(self):\n",
        "        return str(self.value) + \" + \" + str(self.dvalue) + \"ε\"\n",
        "\n",
        "    def __mul__(self, other):\n",
        "        return DualNumber(self.value * other.value,\n",
        "            self.dvalue * other.value + other.dvalue * self.value)\n",
        "    \n",
        "    def __add__(self, other):\n",
        "        #TODO: finish me\n",
        "        # YOUR CODE HERE\n",
        "        #raise NotImplementedError()\n",
        "        #My code\n",
        "        return DualNumber(self.value + other.value, self.dvalue + other.dvalue)        \n",
        "        \n",
        "    # TODO: add missing methods\n",
        "    # YOUR CODE HERE\n",
        "    #raise NotImplementedError()\n",
        "    #My code\n",
        "    def __truediv__(self, other):\n",
        "      den = other.value**2\n",
        "      num = other.value * self.dvalue - self.value * other.dvalue\n",
        "      return DualNumber(self.value / other.value, num / den)\n",
        "    \n",
        "    def __sub__(self, other):\n",
        "      return DualNumber(self.value - other.value, self.dvalue - other.dvalue)\n",
        "    \n",
        "    def __pow__(self, other):\n",
        "      return DualNumber(self.value**other.value, other.value * self.value**(other.value - 1) * self.dvalue\n",
        "                       + math.log(self.value) * self.value**other.value * other.dvalue)"
      ],
      "execution_count": 0,
      "outputs": []
    },
    {
      "cell_type": "code",
      "metadata": {
        "deletable": false,
        "editable": false,
        "nbgrader": {
          "checksum": "e9afb52c0524256aa416c8e0ceec60de",
          "grade": true,
          "grade_id": "cell-7923d5c39d574cd7",
          "locked": true,
          "points": 3,
          "schema_version": 1,
          "solution": false
        },
        "id": "bHp_D7pJYbRR",
        "colab_type": "code",
        "outputId": "95d88134-1f8b-4d86-92d5-262e083eac81",
        "colab": {
          "base_uri": "https://localhost:8080/",
          "height": 34
        }
      },
      "source": [
        "# Tests\n",
        "\n",
        "DualNumber(1,0) + DualNumber(1,0) / DualNumber(1,0) - DualNumber(1,0)**DualNumber(1,0)\n"
      ],
      "execution_count": 0,
      "outputs": [
        {
          "output_type": "execute_result",
          "data": {
            "text/plain": [
              "<__main__.DualNumber at 0x7fbf155d6cc0>"
            ]
          },
          "metadata": {
            "tags": []
          },
          "execution_count": 22
        }
      ]
    },
    {
      "cell_type": "markdown",
      "metadata": {
        "deletable": false,
        "editable": false,
        "nbgrader": {
          "checksum": "be03930a421d27414e745ac5839fddd3",
          "grade": false,
          "grade_id": "cell-2c8ce137dbdd2f9d",
          "locked": true,
          "schema_version": 1,
          "solution": false
        },
        "id": "6j83wkdjYbRT",
        "colab_type": "text"
      },
      "source": [
        "## Implementing math functions\n",
        "\n",
        "We also need to implement some core math functions. Here's the sine function for a dual number:"
      ]
    },
    {
      "cell_type": "code",
      "metadata": {
        "deletable": false,
        "editable": false,
        "nbgrader": {
          "checksum": "1fc46030449c0860972520bddf2a498d",
          "grade": false,
          "grade_id": "cell-30886f6180e2ca7c",
          "locked": true,
          "schema_version": 1,
          "solution": false
        },
        "id": "jUhl0vhJYbRU",
        "colab_type": "code",
        "colab": {}
      },
      "source": [
        "def sin(x):\n",
        "    return DualNumber(math.sin(x.value), math.cos(x.value)*x.dvalue)"
      ],
      "execution_count": 0,
      "outputs": []
    },
    {
      "cell_type": "markdown",
      "metadata": {
        "deletable": false,
        "editable": false,
        "nbgrader": {
          "checksum": "54b68135467f7b83dfa9749df021c932",
          "grade": false,
          "grade_id": "cell-9b585bf1afe72cca",
          "locked": true,
          "schema_version": 1,
          "solution": false
        },
        "id": "9ixohxW3YbRX",
        "colab_type": "text"
      },
      "source": [
        "__Task:__ can you implement the _cosine_ (`cos`), _tangent_ (`tan`), and _exponential_ (`exp`) functions in the code block below?"
      ]
    },
    {
      "cell_type": "code",
      "metadata": {
        "deletable": false,
        "nbgrader": {
          "checksum": "2bea3862089cbfe7a78ceaa915a87a3b",
          "grade": false,
          "grade_id": "cell-61b9462cb781a8e1",
          "locked": false,
          "schema_version": 1,
          "solution": true
        },
        "id": "dQ5oDnW7YbRY",
        "colab_type": "code",
        "colab": {}
      },
      "source": [
        "# TODO: implement additional math functions on dual numbers\n",
        "\n",
        "def cos(x):\n",
        "    # YOUR CODE HERE\n",
        "    #My code\n",
        "    return DualNumber(math.cos(x.value), (-1) * math.sin(x.value) * x.dvalue)\n",
        "    \n",
        "    #raise NotImplementedError()\n",
        "\n",
        "def tan(x):\n",
        "    # YOUR CODE HERE\n",
        "    #raise NotImplementedError()\n",
        "    #My code\n",
        "    return DualNumber(math.tan(x.value), (1 / (math.cos(x.value)**2) * x.dvalue))\n",
        "    \n",
        "\n",
        "def exp(x):\n",
        "    # YOUR CODE HERE\n",
        "    #raise NotImplementedError()\n",
        "    #My code\n",
        "    return DualNumber(math.exp(x.value), math.exp(x.value) * x.dvalue)"
      ],
      "execution_count": 0,
      "outputs": []
    },
    {
      "cell_type": "code",
      "metadata": {
        "deletable": false,
        "editable": false,
        "nbgrader": {
          "checksum": "29c49048fd70b07ab3819fcb5e4972ec",
          "grade": true,
          "grade_id": "cell-9055ec23e6e9ffb8",
          "locked": true,
          "points": 3,
          "schema_version": 1,
          "solution": false
        },
        "id": "W14kpf9_YbRb",
        "colab_type": "code",
        "colab": {}
      },
      "source": [
        "# Tests\n",
        "assert cos(DualNumber(0,0)).value == 1\n",
        "assert tan(DualNumber(0,0)).value == 0\n",
        "assert exp(DualNumber(0,0)).value == 1\n"
      ],
      "execution_count": 0,
      "outputs": []
    },
    {
      "cell_type": "markdown",
      "metadata": {
        "deletable": false,
        "editable": false,
        "nbgrader": {
          "checksum": "5f834befbd408096b4d11ec9cd22159c",
          "grade": false,
          "grade_id": "cell-0429b8810d0cf3a3",
          "locked": true,
          "schema_version": 1,
          "solution": false
        },
        "id": "P_X7mAdDYbRd",
        "colab_type": "text"
      },
      "source": [
        "## Time to try it out\n",
        "\n",
        "We're now in a position to try our implementation.\n",
        "\n",
        "__Task:__ \n",
        "\n",
        "- Try running the following code to compute the value of the function $z=x\\cdot y+sin(x)$ given $x=0.5$ and $y=4.2$, together with the derivative $\\partial z/\\partial x$ at that point. "
      ]
    },
    {
      "cell_type": "code",
      "metadata": {
        "deletable": false,
        "nbgrader": {
          "checksum": "ff1399f6f7101774bd4d3e9c49ed6458",
          "grade": false,
          "grade_id": "cell-12f7c8fa42784946",
          "locked": false,
          "schema_version": 1,
          "solution": true
        },
        "id": "xLOtqJirYbRf",
        "colab_type": "code",
        "outputId": "6d3597b3-2069-48e0-9756-6d6f549574dd",
        "colab": {
          "base_uri": "https://localhost:8080/",
          "height": 51
        }
      },
      "source": [
        "# YOUR CODE HERE\n",
        "#raise NotImplementedError()\n",
        "#My code\n",
        "def z_x(x, y):\n",
        "  return DualNumber(x.value * y.value + math.sin(x.value), y.value * x.dvalue \n",
        "                    + math.cos(x.value) * x.dvalue)\n",
        "print('z is :', z_x(DualNumber(0.5, 1), DualNumber(4.2, 0)).value)\n",
        "print('z_x is : ', z_x(DualNumber(0.5, 1), DualNumber(4.2, 0)).dvalue)"
      ],
      "execution_count": 0,
      "outputs": [
        {
          "output_type": "stream",
          "text": [
            "z is : 2.579425538604203\n",
            "z_x is :  5.077582561890373\n"
          ],
          "name": "stdout"
        }
      ]
    },
    {
      "cell_type": "markdown",
      "metadata": {
        "deletable": false,
        "editable": false,
        "nbgrader": {
          "checksum": "7719838a896c466bcc58ecb273f89175",
          "grade": false,
          "grade_id": "cell-204b8d399904b523",
          "locked": true,
          "schema_version": 1,
          "solution": false
        },
        "id": "OsPErlK4YbRh",
        "colab_type": "text"
      },
      "source": [
        "__Task__: Differentiate the above function with respect to $x$ and write the symbolic derivatives in the following box. Verify the result computed above is correct by plugging-in the values into your symbolic gradient expression."
      ]
    },
    {
      "cell_type": "markdown",
      "metadata": {
        "deletable": false,
        "nbgrader": {
          "checksum": "07ca9c4df262fa25d98cea6f0e36d979",
          "grade": true,
          "grade_id": "cell-1ae4d0a0801a142a",
          "locked": false,
          "points": 2,
          "schema_version": 1,
          "solution": true
        },
        "id": "6DmYSAY7YbRk",
        "colab_type": "text"
      },
      "source": [
        "**My answer: **\n",
        "\n",
        "x = 0.5, y = 4.2         \n",
        "z = x * y + sin(x) = 0.5 x 4.2 + sin(0.5) = 2.5794255   \n",
        "∂𝑧/∂𝑥 = y + cos(x) = 4.2 + cos(0.5) = 4.2 + 0.8775825 = 5.0775825"
      ]
    },
    {
      "cell_type": "markdown",
      "metadata": {
        "id": "Vj1X1oxdYbRv",
        "colab_type": "text"
      },
      "source": [
        "__Task:__ Now use the code block below to compute the derivative $\\partial z/\\partial y$ of the above expression (at the same point $x=0.5, y=4.2$ as above) and store the derivative in the variable `dzdy` (just the derivative, not the Dual Number). Verify by hand that the result is correct."
      ]
    },
    {
      "cell_type": "code",
      "metadata": {
        "deletable": false,
        "nbgrader": {
          "checksum": "cd3fbc66891ec630d8d3029df8ad0766",
          "grade": false,
          "grade_id": "cell-eab763bf1b218dc8",
          "locked": false,
          "schema_version": 1,
          "solution": true
        },
        "id": "7_46FhEKYbRw",
        "colab_type": "code",
        "outputId": "65b3d33e-977f-4f64-afe7-40da04781c6e",
        "colab": {
          "base_uri": "https://localhost:8080/",
          "height": 34
        }
      },
      "source": [
        "# YOUR CODE HERE\n",
        "#raise NotImplementedError()\n",
        "#My code\n",
        "def z_y(x, y):\n",
        "  return DualNumber(x.value * y.value + math.sin(x.value), x.value * y.dvalue)\n",
        "dzdy = z_y(DualNumber(0.5, 0), DualNumber(4.2, 1))\n",
        "dzdy = dzdy.dvalue\n",
        "\n",
        "print('dz/dy:', dzdy)"
      ],
      "execution_count": 0,
      "outputs": [
        {
          "output_type": "stream",
          "text": [
            "dz/dy: 0.5\n"
          ],
          "name": "stdout"
        }
      ]
    },
    {
      "cell_type": "markdown",
      "metadata": {
        "id": "acd9WRKkvbef",
        "colab_type": "text"
      },
      "source": [
        "**My answer:**\n",
        "\n",
        "Compute by hand:\n",
        "\n",
        "dz/dy = x = 0.5"
      ]
    },
    {
      "cell_type": "code",
      "metadata": {
        "deletable": false,
        "editable": false,
        "nbgrader": {
          "checksum": "0e76a35421fc942d840771242e268dad",
          "grade": true,
          "grade_id": "cell-a2f9f0ca4b1ed763",
          "locked": true,
          "points": 2,
          "schema_version": 1,
          "solution": false
        },
        "id": "4fQiXssHYbR0",
        "colab_type": "code",
        "colab": {}
      },
      "source": [
        "#Tests\n",
        "assert dzdy\n",
        "assert type(dzdy) == float\n"
      ],
      "execution_count": 0,
      "outputs": []
    },
    {
      "cell_type": "markdown",
      "metadata": {
        "deletable": false,
        "editable": false,
        "nbgrader": {
          "checksum": "827a8ca599d07c42685e571f2491cf48",
          "grade": false,
          "grade_id": "cell-8faa6c905dd61e82",
          "locked": true,
          "schema_version": 1,
          "solution": false
        },
        "id": "CsHDz39GYbR1",
        "colab_type": "text"
      },
      "source": [
        "__Task:__ Finally, use the code block below to experiment and test the other math functions and methods you created."
      ]
    },
    {
      "cell_type": "markdown",
      "metadata": {
        "id": "5QMnf74svuNP",
        "colab_type": "text"
      },
      "source": [
        "**Created function: **\n",
        "\n",
        "z = exp(x)/cos(x)  - tan(x) + x^y\n",
        "\n",
        "∂𝑧/∂𝑥 = ((exp(x)*cos(x) + exp(x)*sin(x))/cos(x)^2)  - 1/cos(x)^2 +y*x^(y-1)\n"
      ]
    },
    {
      "cell_type": "code",
      "metadata": {
        "deletable": false,
        "nbgrader": {
          "checksum": "7c7f4bfbb93248c24b6fac692d6d3109",
          "grade": true,
          "grade_id": "cell-b71d4bb64928ee38",
          "locked": false,
          "points": 0,
          "schema_version": 1,
          "solution": true
        },
        "id": "_Y1Y7ecaYbR2",
        "colab_type": "code",
        "outputId": "ca5ce7e7-5ba1-48f8-93e9-573c9a5c12a4",
        "colab": {
          "base_uri": "https://localhost:8080/",
          "height": 51
        }
      },
      "source": [
        "# YOUR CODE HERE\n",
        "#raise NotImplementedError()\n",
        "#My code\n",
        "x = DualNumber(2, 1)\n",
        "y = DualNumber(4, 0)\n",
        "z = (exp(x) / cos(x)) - tan(x) + x**y\n",
        "\n",
        "dzdx_hand = (math.exp(2) * (math.cos(2) + math.sin(2)) / ((math.cos(2))**2)) - (1 / (math.cos(2))**2) + 4 * 2**(4 - 1)\n",
        "print('dzdx computed by hand is: ', dzdx_hand)\n",
        "\n",
        "dzdx = z.dvalue\n",
        "print('dzdx from the code is: ', dzdx)"
      ],
      "execution_count": 0,
      "outputs": [
        {
          "output_type": "stream",
          "text": [
            "dzdx computed by hand is:  47.267034396082366\n",
            "dzdx from the code is:  47.267034396082366\n"
          ],
          "name": "stdout"
        }
      ]
    },
    {
      "cell_type": "code",
      "metadata": {
        "id": "JQSptPdz1iSO",
        "colab_type": "code",
        "colab": {}
      },
      "source": [
        ""
      ],
      "execution_count": 0,
      "outputs": []
    }
  ]
}